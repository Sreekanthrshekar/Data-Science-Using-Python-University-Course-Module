{
 "cells": [
  {
   "cell_type": "markdown",
   "metadata": {},
   "source": [
    "# IMPORTING LIBRARIES\n",
    "\n",
    "Importing the necessary libraries for the project.|"
   ]
  },
  {
   "cell_type": "code",
   "execution_count": 1,
   "metadata": {},
   "outputs": [],
   "source": [
    "import numpy as np\n",
    "import pandas as pd\n",
    "from sklearn.model_selection import train_test_split\n",
    "from sklearn.neighbors import KNeighborsClassifier\n",
    "from sklearn.svm import SVC\n",
    "from sklearn.ensemble import RandomForestClassifier\n",
    "from sklearn.metrics import precision_score\n",
    "from sklearn import preprocessing\n",
    "from sklearn.metrics import accuracy_score as acc"
   ]
  },
  {
   "cell_type": "markdown",
   "metadata": {},
   "source": [
    "# LOADING THE .DATA FILE INTO A DATAFRAME"
   ]
  },
  {
   "cell_type": "code",
   "execution_count": 2,
   "metadata": {},
   "outputs": [
    {
     "data": {
      "text/html": [
       "<div>\n",
       "<style scoped>\n",
       "    .dataframe tbody tr th:only-of-type {\n",
       "        vertical-align: middle;\n",
       "    }\n",
       "\n",
       "    .dataframe tbody tr th {\n",
       "        vertical-align: top;\n",
       "    }\n",
       "\n",
       "    .dataframe thead th {\n",
       "        text-align: right;\n",
       "    }\n",
       "</style>\n",
       "<table border=\"1\" class=\"dataframe\">\n",
       "  <thead>\n",
       "    <tr style=\"text-align: right;\">\n",
       "      <th></th>\n",
       "      <th>WSR0</th>\n",
       "      <th>WSR1</th>\n",
       "      <th>WSR2</th>\n",
       "      <th>WSR3</th>\n",
       "      <th>WSR4</th>\n",
       "      <th>WSR5</th>\n",
       "      <th>WSR6</th>\n",
       "      <th>WSR7</th>\n",
       "      <th>WSR8</th>\n",
       "      <th>WSR9</th>\n",
       "      <th>...</th>\n",
       "      <th>RH50</th>\n",
       "      <th>U50</th>\n",
       "      <th>V50</th>\n",
       "      <th>HT50</th>\n",
       "      <th>KI</th>\n",
       "      <th>TT</th>\n",
       "      <th>SLP</th>\n",
       "      <th>SLP_</th>\n",
       "      <th>Precp</th>\n",
       "      <th>Ozone Day</th>\n",
       "    </tr>\n",
       "  </thead>\n",
       "  <tbody>\n",
       "    <tr>\n",
       "      <th>0</th>\n",
       "      <td>0.8</td>\n",
       "      <td>1.8</td>\n",
       "      <td>2.4</td>\n",
       "      <td>2.1</td>\n",
       "      <td>2</td>\n",
       "      <td>2.1</td>\n",
       "      <td>1.5</td>\n",
       "      <td>1.7</td>\n",
       "      <td>1.9</td>\n",
       "      <td>2.3</td>\n",
       "      <td>...</td>\n",
       "      <td>0.15</td>\n",
       "      <td>10.67</td>\n",
       "      <td>-1.56</td>\n",
       "      <td>5795</td>\n",
       "      <td>-12.1</td>\n",
       "      <td>17.9</td>\n",
       "      <td>10330</td>\n",
       "      <td>-55</td>\n",
       "      <td>0</td>\n",
       "      <td>0</td>\n",
       "    </tr>\n",
       "    <tr>\n",
       "      <th>1</th>\n",
       "      <td>2.8</td>\n",
       "      <td>3.2</td>\n",
       "      <td>3.3</td>\n",
       "      <td>2.7</td>\n",
       "      <td>3.3</td>\n",
       "      <td>3.2</td>\n",
       "      <td>2.9</td>\n",
       "      <td>2.8</td>\n",
       "      <td>3.1</td>\n",
       "      <td>3.4</td>\n",
       "      <td>...</td>\n",
       "      <td>0.48</td>\n",
       "      <td>8.39</td>\n",
       "      <td>3.84</td>\n",
       "      <td>5805</td>\n",
       "      <td>14.05</td>\n",
       "      <td>29</td>\n",
       "      <td>10275</td>\n",
       "      <td>-55</td>\n",
       "      <td>0</td>\n",
       "      <td>0</td>\n",
       "    </tr>\n",
       "    <tr>\n",
       "      <th>2</th>\n",
       "      <td>2.9</td>\n",
       "      <td>2.8</td>\n",
       "      <td>2.6</td>\n",
       "      <td>2.1</td>\n",
       "      <td>2.2</td>\n",
       "      <td>2.5</td>\n",
       "      <td>2.5</td>\n",
       "      <td>2.7</td>\n",
       "      <td>2.2</td>\n",
       "      <td>2.5</td>\n",
       "      <td>...</td>\n",
       "      <td>0.6</td>\n",
       "      <td>6.94</td>\n",
       "      <td>9.8</td>\n",
       "      <td>5790</td>\n",
       "      <td>17.9</td>\n",
       "      <td>41.3</td>\n",
       "      <td>10235</td>\n",
       "      <td>-40</td>\n",
       "      <td>0</td>\n",
       "      <td>0</td>\n",
       "    </tr>\n",
       "    <tr>\n",
       "      <th>3</th>\n",
       "      <td>4.7</td>\n",
       "      <td>3.8</td>\n",
       "      <td>3.7</td>\n",
       "      <td>3.8</td>\n",
       "      <td>2.9</td>\n",
       "      <td>3.1</td>\n",
       "      <td>2.8</td>\n",
       "      <td>2.5</td>\n",
       "      <td>2.4</td>\n",
       "      <td>3.1</td>\n",
       "      <td>...</td>\n",
       "      <td>0.49</td>\n",
       "      <td>8.73</td>\n",
       "      <td>10.54</td>\n",
       "      <td>5775</td>\n",
       "      <td>31.15</td>\n",
       "      <td>51.7</td>\n",
       "      <td>10195</td>\n",
       "      <td>-40</td>\n",
       "      <td>2.08</td>\n",
       "      <td>0</td>\n",
       "    </tr>\n",
       "    <tr>\n",
       "      <th>4</th>\n",
       "      <td>2.6</td>\n",
       "      <td>2.1</td>\n",
       "      <td>1.6</td>\n",
       "      <td>1.4</td>\n",
       "      <td>0.9</td>\n",
       "      <td>1.5</td>\n",
       "      <td>1.2</td>\n",
       "      <td>1.4</td>\n",
       "      <td>1.3</td>\n",
       "      <td>1.4</td>\n",
       "      <td>...</td>\n",
       "      <td>?</td>\n",
       "      <td>?</td>\n",
       "      <td>?</td>\n",
       "      <td>?</td>\n",
       "      <td>?</td>\n",
       "      <td>?</td>\n",
       "      <td>?</td>\n",
       "      <td>?</td>\n",
       "      <td>0.58</td>\n",
       "      <td>0</td>\n",
       "    </tr>\n",
       "  </tbody>\n",
       "</table>\n",
       "<p>5 rows × 73 columns</p>\n",
       "</div>"
      ],
      "text/plain": [
       "  WSR0 WSR1 WSR2 WSR3 WSR4 WSR5 WSR6 WSR7 WSR8 WSR9  ...  RH50    U50    V50  \\\n",
       "0  0.8  1.8  2.4  2.1    2  2.1  1.5  1.7  1.9  2.3  ...  0.15  10.67  -1.56   \n",
       "1  2.8  3.2  3.3  2.7  3.3  3.2  2.9  2.8  3.1  3.4  ...  0.48   8.39   3.84   \n",
       "2  2.9  2.8  2.6  2.1  2.2  2.5  2.5  2.7  2.2  2.5  ...   0.6   6.94    9.8   \n",
       "3  4.7  3.8  3.7  3.8  2.9  3.1  2.8  2.5  2.4  3.1  ...  0.49   8.73  10.54   \n",
       "4  2.6  2.1  1.6  1.4  0.9  1.5  1.2  1.4  1.3  1.4  ...     ?      ?      ?   \n",
       "\n",
       "   HT50     KI    TT    SLP SLP_ Precp Ozone Day  \n",
       "0  5795  -12.1  17.9  10330  -55     0         0  \n",
       "1  5805  14.05    29  10275  -55     0         0  \n",
       "2  5790   17.9  41.3  10235  -40     0         0  \n",
       "3  5775  31.15  51.7  10195  -40  2.08         0  \n",
       "4     ?      ?     ?      ?    ?  0.58         0  \n",
       "\n",
       "[5 rows x 73 columns]"
      ]
     },
     "execution_count": 2,
     "metadata": {},
     "output_type": "execute_result"
    }
   ],
   "source": [
    "#The file doesn't contain any headers\n",
    "data = pd.read_csv('daatamain.csv',)\n",
    "\n",
    "#Data Overview\n",
    "data.head()"
   ]
  },
  {
   "cell_type": "code",
   "execution_count": 3,
   "metadata": {},
   "outputs": [
    {
     "name": "stdout",
     "output_type": "stream",
     "text": [
      "<class 'pandas.core.frame.DataFrame'>\n",
      "RangeIndex: 2536 entries, 0 to 2535\n",
      "Data columns (total 73 columns):\n",
      " #   Column     Non-Null Count  Dtype \n",
      "---  ------     --------------  ----- \n",
      " 0   WSR0       2536 non-null   object\n",
      " 1   WSR1       2536 non-null   object\n",
      " 2   WSR2       2536 non-null   object\n",
      " 3   WSR3       2536 non-null   object\n",
      " 4   WSR4       2536 non-null   object\n",
      " 5   WSR5       2536 non-null   object\n",
      " 6   WSR6       2536 non-null   object\n",
      " 7   WSR7       2536 non-null   object\n",
      " 8   WSR8       2536 non-null   object\n",
      " 9   WSR9       2536 non-null   object\n",
      " 10  WSR10      2536 non-null   object\n",
      " 11  WSR11      2536 non-null   object\n",
      " 12  WSR12      2536 non-null   object\n",
      " 13  WSR13      2536 non-null   object\n",
      " 14  WSR14      2536 non-null   object\n",
      " 15  WSR15      2536 non-null   object\n",
      " 16  WSR16      2536 non-null   object\n",
      " 17  WSR17      2536 non-null   object\n",
      " 18  WSR18      2536 non-null   object\n",
      " 19  WSR19      2536 non-null   object\n",
      " 20  WSR20      2536 non-null   object\n",
      " 21  WSR21      2536 non-null   object\n",
      " 22  WSR22      2536 non-null   object\n",
      " 23  WSR23      2536 non-null   object\n",
      " 24  WSR_PK     2536 non-null   object\n",
      " 25  WSR_AV     2536 non-null   object\n",
      " 26  T0         2536 non-null   object\n",
      " 27  T1         2536 non-null   object\n",
      " 28  T2         2536 non-null   object\n",
      " 29  T3         2536 non-null   object\n",
      " 30  T4         2536 non-null   object\n",
      " 31  T5         2536 non-null   object\n",
      " 32  T6         2536 non-null   object\n",
      " 33  T7         2536 non-null   object\n",
      " 34  T8         2536 non-null   object\n",
      " 35  T9         2536 non-null   object\n",
      " 36  T10        2536 non-null   object\n",
      " 37  T11        2536 non-null   object\n",
      " 38  T12        2536 non-null   object\n",
      " 39  T13        2536 non-null   object\n",
      " 40  T14        2536 non-null   object\n",
      " 41  T15        2536 non-null   object\n",
      " 42  T16        2536 non-null   object\n",
      " 43  T17        2536 non-null   object\n",
      " 44  T18        2536 non-null   object\n",
      " 45  T19        2536 non-null   object\n",
      " 46  T20        2536 non-null   object\n",
      " 47  T21        2536 non-null   object\n",
      " 48  T22        2536 non-null   object\n",
      " 49  T23        2536 non-null   object\n",
      " 50  T_PK       2536 non-null   object\n",
      " 51  T_AV       2536 non-null   object\n",
      " 52  T85        2536 non-null   object\n",
      " 53  RH85       2536 non-null   object\n",
      " 54  U85        2536 non-null   object\n",
      " 55  V85        2536 non-null   object\n",
      " 56  HT85       2536 non-null   object\n",
      " 57  T70        2536 non-null   object\n",
      " 58  RH70       2536 non-null   object\n",
      " 59  U70        2536 non-null   object\n",
      " 60  V70        2536 non-null   object\n",
      " 61  HT70       2536 non-null   object\n",
      " 62  T50        2536 non-null   object\n",
      " 63  RH50       2536 non-null   object\n",
      " 64  U50        2536 non-null   object\n",
      " 65  V50        2536 non-null   object\n",
      " 66  HT50       2536 non-null   object\n",
      " 67  KI         2536 non-null   object\n",
      " 68  TT         2536 non-null   object\n",
      " 69  SLP        2536 non-null   object\n",
      " 70  SLP_       2536 non-null   object\n",
      " 71  Precp      2536 non-null   object\n",
      " 72  Ozone Day  2536 non-null   int64 \n",
      "dtypes: int64(1), object(72)\n",
      "memory usage: 1.4+ MB\n"
     ]
    }
   ],
   "source": [
    "#Data information\n",
    "data.info()"
   ]
  },
  {
   "cell_type": "markdown",
   "metadata": {},
   "source": [
    "# PREPROCESSING"
   ]
  },
  {
   "cell_type": "code",
   "execution_count": 4,
   "metadata": {},
   "outputs": [],
   "source": [
    "#Removing missing values in the data represented by '?'\n",
    "data = data.replace('?',np.nan).dropna(how='any',axis=0)"
   ]
  },
  {
   "cell_type": "code",
   "execution_count": 5,
   "metadata": {
    "scrolled": true
   },
   "outputs": [
    {
     "name": "stdout",
     "output_type": "stream",
     "text": [
      "<class 'pandas.core.frame.DataFrame'>\n",
      "Int64Index: 1848 entries, 0 to 2535\n",
      "Data columns (total 73 columns):\n",
      " #   Column     Non-Null Count  Dtype \n",
      "---  ------     --------------  ----- \n",
      " 0   WSR0       1848 non-null   object\n",
      " 1   WSR1       1848 non-null   object\n",
      " 2   WSR2       1848 non-null   object\n",
      " 3   WSR3       1848 non-null   object\n",
      " 4   WSR4       1848 non-null   object\n",
      " 5   WSR5       1848 non-null   object\n",
      " 6   WSR6       1848 non-null   object\n",
      " 7   WSR7       1848 non-null   object\n",
      " 8   WSR8       1848 non-null   object\n",
      " 9   WSR9       1848 non-null   object\n",
      " 10  WSR10      1848 non-null   object\n",
      " 11  WSR11      1848 non-null   object\n",
      " 12  WSR12      1848 non-null   object\n",
      " 13  WSR13      1848 non-null   object\n",
      " 14  WSR14      1848 non-null   object\n",
      " 15  WSR15      1848 non-null   object\n",
      " 16  WSR16      1848 non-null   object\n",
      " 17  WSR17      1848 non-null   object\n",
      " 18  WSR18      1848 non-null   object\n",
      " 19  WSR19      1848 non-null   object\n",
      " 20  WSR20      1848 non-null   object\n",
      " 21  WSR21      1848 non-null   object\n",
      " 22  WSR22      1848 non-null   object\n",
      " 23  WSR23      1848 non-null   object\n",
      " 24  WSR_PK     1848 non-null   object\n",
      " 25  WSR_AV     1848 non-null   object\n",
      " 26  T0         1848 non-null   object\n",
      " 27  T1         1848 non-null   object\n",
      " 28  T2         1848 non-null   object\n",
      " 29  T3         1848 non-null   object\n",
      " 30  T4         1848 non-null   object\n",
      " 31  T5         1848 non-null   object\n",
      " 32  T6         1848 non-null   object\n",
      " 33  T7         1848 non-null   object\n",
      " 34  T8         1848 non-null   object\n",
      " 35  T9         1848 non-null   object\n",
      " 36  T10        1848 non-null   object\n",
      " 37  T11        1848 non-null   object\n",
      " 38  T12        1848 non-null   object\n",
      " 39  T13        1848 non-null   object\n",
      " 40  T14        1848 non-null   object\n",
      " 41  T15        1848 non-null   object\n",
      " 42  T16        1848 non-null   object\n",
      " 43  T17        1848 non-null   object\n",
      " 44  T18        1848 non-null   object\n",
      " 45  T19        1848 non-null   object\n",
      " 46  T20        1848 non-null   object\n",
      " 47  T21        1848 non-null   object\n",
      " 48  T22        1848 non-null   object\n",
      " 49  T23        1848 non-null   object\n",
      " 50  T_PK       1848 non-null   object\n",
      " 51  T_AV       1848 non-null   object\n",
      " 52  T85        1848 non-null   object\n",
      " 53  RH85       1848 non-null   object\n",
      " 54  U85        1848 non-null   object\n",
      " 55  V85        1848 non-null   object\n",
      " 56  HT85       1848 non-null   object\n",
      " 57  T70        1848 non-null   object\n",
      " 58  RH70       1848 non-null   object\n",
      " 59  U70        1848 non-null   object\n",
      " 60  V70        1848 non-null   object\n",
      " 61  HT70       1848 non-null   object\n",
      " 62  T50        1848 non-null   object\n",
      " 63  RH50       1848 non-null   object\n",
      " 64  U50        1848 non-null   object\n",
      " 65  V50        1848 non-null   object\n",
      " 66  HT50       1848 non-null   object\n",
      " 67  KI         1848 non-null   object\n",
      " 68  TT         1848 non-null   object\n",
      " 69  SLP        1848 non-null   object\n",
      " 70  SLP_       1848 non-null   object\n",
      " 71  Precp      1848 non-null   object\n",
      " 72  Ozone Day  1848 non-null   int64 \n",
      "dtypes: int64(1), object(72)\n",
      "memory usage: 1.0+ MB\n"
     ]
    }
   ],
   "source": [
    "data.info()"
   ]
  },
  {
   "cell_type": "code",
   "execution_count": 6,
   "metadata": {},
   "outputs": [
    {
     "data": {
      "text/plain": [
       "<matplotlib.axes._subplots.AxesSubplot at 0x7f9b6c0ae7d0>"
      ]
     },
     "execution_count": 6,
     "metadata": {},
     "output_type": "execute_result"
    },
    {
     "data": {
      "image/png": "[encoded data removed]",
      "text/plain": [
       "<Figure size 360x360 with 1 Axes>"
      ]
     },
     "metadata": {
      "needs_background": "light"
     },
     "output_type": "display_data"
    },
    {
     "data": {
      "image/png": "[encoded data removed]",
      "text/plain": [
       "<Figure size 432x288 with 1 Axes>"
      ]
     },
     "metadata": {
      "needs_background": "light"
     },
     "output_type": "display_data"
    }
   ],
   "source": [
    "data.hist(figsize = (5,5))\n",
    "data.plot()"
   ]
  },
  {
   "cell_type": "markdown",
   "metadata": {},
   "source": [
    "# SPLITTING & SCALING THE DATA"
   ]
  },
  {
   "cell_type": "code",
   "execution_count": 7,
   "metadata": {},
   "outputs": [],
   "source": [
    "X_train, X_test, y_train, y_test = train_test_split(data.iloc[:,:72],data.iloc[:,72],test_size=0.3,random_state=42)\n",
    "\n",
    "scaler = preprocessing.MinMaxScaler()\n",
    "X_train = scaler.fit_transform(X_train)\n",
    "X_test = scaler.transform(X_test)"
   ]
  },
  {
   "cell_type": "markdown",
   "metadata": {},
   "source": [
    "# K-Nearest Neighbors "
   ]
  },
  {
   "cell_type": "code",
   "execution_count": 8,
   "metadata": {},
   "outputs": [
    {
     "name": "stdout",
     "output_type": "stream",
     "text": [
      "K-Nearest Neighbors : KNeighborsClassifier\n",
      "Accuracy : 0.9603603603603603\n",
      "Prcision : 0.9603603603603603\n"
     ]
    }
   ],
   "source": [
    "knn = KNeighborsClassifier(n_neighbors  = 5)\n",
    "knn.fit(X_train,y_train)\n",
    "pred = knn.predict(X_test)\n",
    "print('K-Nearest Neighbors : KNeighborsClassifier')\n",
    "print('Accuracy :',knn.score(X_test,y_test))\n",
    "print('Prcision :',precision_score(y_test,pred,average='micro'))"
   ]
  },
  {
   "cell_type": "markdown",
   "metadata": {},
   "source": [
    "# Support Vector Machine"
   ]
  },
  {
   "cell_type": "code",
   "execution_count": 9,
   "metadata": {},
   "outputs": [
    {
     "name": "stdout",
     "output_type": "stream",
     "text": [
      "Support Vector Machine : SVC\n",
      "Accuracy : 0.9693693693693693\n",
      "Prcision : 0.9693693693693693\n"
     ]
    }
   ],
   "source": [
    "svm = SVC(gamma=0.001).fit(X_train,y_train)\n",
    "pred = svm.predict(X_test)\n",
    "print('Support Vector Machine : SVC')\n",
    "print('Accuracy :',svm.score(X_test,y_test))\n",
    "print('Prcision :',precision_score(y_test,pred,average='micro'))"
   ]
  },
  {
   "cell_type": "markdown",
   "metadata": {},
   "source": [
    "# Random Forest"
   ]
  },
  {
   "cell_type": "code",
   "execution_count": 10,
   "metadata": {},
   "outputs": [
    {
     "name": "stdout",
     "output_type": "stream",
     "text": [
      "Random Forest : RandomForestClassifier\n",
      "Accuracy : 0.9693693693693693\n",
      "Prcision : 0.9603603603603603\n"
     ]
    }
   ],
   "source": [
    "rnd = RandomForestClassifier(n_estimators=20).fit(X_train,y_train)\n",
    "pred = knn.predict(X_test)\n",
    "print('Random Forest : RandomForestClassifier')\n",
    "print('Accuracy :',rnd.score(X_test,y_test))\n",
    "print('Prcision :',precision_score(y_test,pred,average='micro'))"
   ]
  }
 ],
 "metadata": {
  "kernelspec": {
   "display_name": "Python 3",
   "language": "python",
   "name": "python3"
  },
  "language_info": {
   "codemirror_mode": {
    "name": "ipython",
    "version": 3
   },
   "file_extension": ".py",
   "mimetype": "text/x-python",
   "name": "python",
   "nbconvert_exporter": "python",
   "pygments_lexer": "ipython3",
   "version": "3.7.5"
  }
 },
 "nbformat": 4,
 "nbformat_minor": 2
}
