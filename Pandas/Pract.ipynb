{
 "cells": [
  {
   "cell_type": "code",
   "execution_count": 1,
   "metadata": {},
   "outputs": [
    {
     "name": "stdin",
     "output_type": "stream",
     "text": [
      " Hello\n"
     ]
    },
    {
     "name": "stdout",
     "output_type": "stream",
     "text": [
      "Hello\n"
     ]
    }
   ],
   "source": [
    "my_string=input()\n",
    "print(my_string)"
   ]
  },
  {
   "cell_type": "code",
   "execution_count": 5,
   "metadata": {},
   "outputs": [
    {
     "name": "stdin",
     "output_type": "stream",
     "text": [
      "Enter ip 121212\n"
     ]
    },
    {
     "name": "stdout",
     "output_type": "stream",
     "text": [
      "{'1': 3, '2': 3}\n"
     ]
    }
   ],
   "source": [
    "strl=input(\"Enter ip\")\n",
    "\n",
    "dictX = {} \n",
    "\n",
    "for i in strl: \n",
    "    if i not in dictX.keys(): \n",
    "          dictX[i] = 1\n",
    "    else: \n",
    "          dictX[i] += 1\n",
    "        \n",
    "print (dictX)"
   ]
  },
  {
   "cell_type": "code",
   "execution_count": 7,
   "metadata": {},
   "outputs": [
    {
     "data": {
      "text/plain": [
       "[1, 2, 3, 4, 5]"
      ]
     },
     "execution_count": 7,
     "metadata": {},
     "output_type": "execute_result"
    }
   ],
   "source": [
    "import numpy as np\n",
    "l=[1,2,3,4,5]\n",
    "arr=np.array(l)\n",
    "l"
   ]
  },
  {
   "cell_type": "code",
   "execution_count": 7,
   "metadata": {},
   "outputs": [
    {
     "name": "stdin",
     "output_type": "stream",
     "text": [
      " 1\n",
      " 2\n",
      " 3\n",
      " 4\n",
      " 2\n"
     ]
    },
    {
     "name": "stdout",
     "output_type": "stream",
     "text": [
      "[1, 2, 3, 4, 2]\n",
      "[1, 2, 2, 3, 4]\n"
     ]
    }
   ],
   "source": [
    "l=[]\n",
    "for i in range(5):\n",
    "    l.append(int(input()))\n",
    "print(l)\n",
    "for i in range(len(l)):\n",
    "    minx=i\n",
    "    for j in range(i+1,len(l)):\n",
    "        if(l[j]<l[minx]):\n",
    "            minx=j\n",
    "    l[minx], l[i]=l[i], l[minx]\n",
    "print(l)\n"
   ]
  },
  {
   "cell_type": "code",
   "execution_count": 11,
   "metadata": {},
   "outputs": [
    {
     "name": "stdin",
     "output_type": "stream",
     "text": [
      " 3 \n",
      " 4\n",
      " 2\n",
      " 3\n",
      " 4\n"
     ]
    },
    {
     "name": "stdout",
     "output_type": "stream",
     "text": [
      "[2, 3, 3, 4, 4]\n",
      "[2, 3, 3, 4, 4]\n"
     ]
    }
   ],
   "source": [
    "### Void Function\n",
    "\n",
    "def sortF(l):\n",
    "    for i in range(len(l)):\n",
    "        minx=i\n",
    "        for j in range(i+1,len(l)):\n",
    "            if(l[j]<l[minx]):\n",
    "                minx=j\n",
    "        l[minx], l[i]=l[i], l[minx]\n",
    "    print(l)\n",
    "\n",
    "l=[]\n",
    "for i in range(5):\n",
    "    l.append(int(input()))\n",
    "print(l)\n",
    "sortF(l)\n"
   ]
  },
  {
   "cell_type": "code",
   "execution_count": null,
   "metadata": {},
   "outputs": [],
   "source": [
    "### Return Function\n",
    "\n",
    "def sortF(l):\n",
    "    for i in range(len(l)):\n",
    "        minx=i\n",
    "        for j in range(i+1,len(l)):\n",
    "            if(l[j]<l[minx]):\n",
    "                minx=j\n",
    "        l[minx], l[i]=l[i], l[minx]\n",
    "    return l\n",
    "l=[]\n",
    "for i in range(5):\n",
    "    l.append(int(input()))\n",
    "print(l)\n",
    "p=sortF(l)\n",
    "o=l\n",
    "print(l)\n",
    "print(p)\n",
    "print(o)\n",
    "print(l[0:])"
   ]
  },
  {
   "cell_type": "code",
   "execution_count": null,
   "metadata": {},
   "outputs": [],
   "source": [
    "### MAP Function\n",
    "### Error\n",
    "\n",
    "def sortF(l):\n",
    "    for i in range(len(l)):\n",
    "        minx=i\n",
    "        for j in range(i+1,len(l)):\n",
    "            if(l[j]<l[minx]):\n",
    "                minx=j\n",
    "        l[minx], l[i]=l[i], l[minx]\n",
    "    return l\n",
    "l=[]\n",
    "for i in range(5):\n",
    "    l.append(int(input()))\n",
    "print(l)\n",
    "p=map(sortF,l)"
   ]
  },
  {
   "cell_type": "code",
   "execution_count": 1,
   "metadata": {},
   "outputs": [
    {
     "name": "stdout",
     "output_type": "stream",
     "text": [
      "<map object at 0x000002238C94D688>\n",
      "[1, 4, 9, 16]\n",
      "{16, 1, 4, 9}\n"
     ]
    }
   ],
   "source": [
    "### MAP Function\n",
    "### Error\n",
    "\n",
    "def calculateSquare(n):\n",
    "  return n*n\n",
    "\n",
    "numbers = (1, 2, 3, 4)\n",
    "result = map(calculateSquare, numbers)\n",
    "print(result)\n",
    "\n",
    "# converting map object to set\n",
    "numbersSquare = list(result)\n",
    "print(numbersSquare)\n",
    "p = set(numbersSquare)\n",
    "print(p)\n",
    "\n"
   ]
  },
  {
   "cell_type": "code",
   "execution_count": 4,
   "metadata": {},
   "outputs": [
    {
     "name": "stdin",
     "output_type": "stream",
     "text": [
      " 1\n",
      " 1 2 3\n"
     ]
    },
    {
     "name": "stdout",
     "output_type": "stream",
     "text": [
      "YES\n"
     ]
    }
   ],
   "source": [
    "strl=input(\"Enter ip\")\n",
    "dictX = {} \n",
    "for i in strl: \n",
    "    if i not in dictX.keys(): \n",
    "          dictX[i] = 1\n",
    "    else: \n",
    "          dictX[i] += 1\n",
    "        \n",
    "print (dictX)"
   ]
  },
  {
   "cell_type": "code",
   "execution_count": null,
   "metadata": {},
   "outputs": [],
   "source": [
    "strl=input(\"Enter ip\")\n",
    "dictX = {} \n",
    "for i in strl: \n",
    "    if i not in dictX.keys(): \n",
    "          dictX[i] = 1\n",
    "    else: \n",
    "          dictX[i] += 1\n",
    "        \n",
    "print (dictX)"
   ]
  }
 ],
 "metadata": {
  "kernelspec": {
   "display_name": "Python 3",
   "language": "python",
   "name": "python3"
  },
  "language_info": {
   "codemirror_mode": {
    "name": "ipython",
    "version": 3
   },
   "file_extension": ".py",
   "mimetype": "text/x-python",
   "name": "python",
   "nbconvert_exporter": "python",
   "pygments_lexer": "ipython3",
   "version": "3.7.4"
  }
 },
 "nbformat": 4,
 "nbformat_minor": 4
}
